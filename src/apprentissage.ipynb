{
 "cells": [
  {
   "cell_type": "markdown",
   "metadata": {},
   "source": [
    "#### Imports"
   ]
  },
  {
   "cell_type": "code",
   "execution_count": 5,
   "metadata": {},
   "outputs": [],
   "source": [
    "import torch\n",
    "import random\n",
    "import numpy as np\n",
    "\n",
    "from functions.download_data import (\n",
    "    get_patchs_labels#,\n",
    "    #normalization_params,\n",
    "    #get_golden_paths,\n",
    "    #pooled_std_dev,\n",
    ")"
   ]
  },
  {
   "cell_type": "code",
   "execution_count": 3,
   "metadata": {},
   "outputs": [],
   "source": [
    "seed = 12345 \n",
    "torch.manual_seed(seed)\n",
    "random.seed(0)\n",
    "np.random.seed(0)"
   ]
  },
  {
   "cell_type": "markdown",
   "metadata": {},
   "source": [
    "#### Variables"
   ]
  },
  {
   "cell_type": "code",
   "execution_count": 12,
   "metadata": {},
   "outputs": [],
   "source": [
    "# remote_server_uri = \"https://projet-slums-detection-128833.user.lab.sspcloud.fr\"\n",
    "# experiment_name = \"test-dev\"\n",
    "# run_name =  \"kikito_stagios\"\n",
    "# \n",
    "# \n",
    "# \n",
    "# augment_size = 512\n",
    "# \n",
    "# n_bands = 3\n",
    "# logits = 1\n",
    "# freeze_encoder = 0\n",
    "# epochs = 10\n",
    "# batch_size = 8\n",
    "# test_batch_size = 8\n",
    "# num_sanity_val_steps = 1\n",
    "# accumulate_batch = 8\n",
    "# module_name = \"segformer-b5\"\n",
    "# loss_name =  \"cross_entropy_weighted\"\n",
    "# building_class_weight = 1\n",
    "# label_smoothing = 0.0\n",
    "# lr = 0.00005\n",
    "# momentum = float\n",
    "# scheduler_name = \"one_cycle\"\n",
    "# scheduler_patience = 3\n",
    "# patience = 200\n",
    "# \n",
    "# \n",
    "# cuda = 0\n",
    "# cuda = cuda and torch.cuda.is_available()\n",
    "\n",
    "\n",
    "\n",
    "# train_patches = []\n",
    "# train_labels = []\n",
    "# test_patches = []\n",
    "# test_labels = []\n",
    "# normalization_means = []\n",
    "# normalization_stds = []\n",
    "# weights = []\n",
    "\n",
    "\n"
   ]
  },
  {
   "cell_type": "code",
   "execution_count": null,
   "metadata": {},
   "outputs": [],
   "source": [
    "from_s3 = 0\n",
    "task = \"segmentation\"\n",
    "source = \"PLEIADES\"\n",
    "dep, year  = \"MARTINIQUE\", \"2022\"\n",
    "tiles_size = 250\n",
    "type_labeler = \"BDTOPO\"\n",
    "\n",
    "patches, labels = get_patchs_labels(\n",
    "        from_s3, task, source, dep, year, tiles_size, type_labeler, train=True\n",
    "    )"
   ]
  },
  {
   "cell_type": "markdown",
   "metadata": {},
   "source": []
  }
 ],
 "metadata": {
  "kernelspec": {
   "display_name": "base",
   "language": "python",
   "name": "python3"
  },
  "language_info": {
   "codemirror_mode": {
    "name": "ipython",
    "version": 3
   },
   "file_extension": ".py",
   "mimetype": "text/x-python",
   "name": "python",
   "nbconvert_exporter": "python",
   "pygments_lexer": "ipython3",
   "version": "3.11.6"
  }
 },
 "nbformat": 4,
 "nbformat_minor": 2
}
